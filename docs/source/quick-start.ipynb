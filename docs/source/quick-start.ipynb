{
 "cells": [
  {
   "cell_type": "markdown",
   "metadata": {},
   "source": [
    "# Quick Start\n",
    "\n",
    "See the API for more detailed information, examples, formulas, and references for each function."
   ]
  },
  {
   "cell_type": "code",
   "execution_count": 1,
   "metadata": {},
   "outputs": [],
   "source": [
    "import numpy as np\n",
    "import xarray as xr\n",
    "import xskillscore as xs\n",
    "np.random.seed(seed=42)"
   ]
  },
  {
   "cell_type": "markdown",
   "metadata": {},
   "source": [
    "Here, we generate some sample gridded data. Our data has three time steps, and a 4x5 latitude/longitude grid. `obs` replicates some verification data and `fct` some forecast (e.g. from a statistical or dynamical model)."
   ]
  },
  {
   "cell_type": "code",
   "execution_count": 2,
   "metadata": {},
   "outputs": [],
   "source": [
    "obs = xr.DataArray(\n",
    "       np.random.rand(3, 4, 5),\n",
    "       coords=[\n",
    "           xr.cftime_range(\"2000-01-01\", \"2000-01-03\", freq=\"D\"),\n",
    "           np.arange(4),\n",
    "           np.arange(5),\n",
    "       ],\n",
    "       dims=[\"time\", \"lat\", \"lon\"],\n",
    "       name='var'\n",
    "   )\n",
    "fct = obs.copy()\n",
    "fct.values = np.random.rand(3, 4, 5)"
   ]
  },
  {
   "cell_type": "markdown",
   "metadata": {},
   "source": [
    "## Deterministic Metrics\n",
    "\n",
    "`xskillscore` offers a suite of correlation-based and distance-based deterministic metrics.\n",
    "\n",
    "### Correlation-Based \n",
    "\n",
    "* Pearson Correlation (`pearson_r`)\n",
    "* Pearson Correlation p value (`pearson_r_p_value`)\n",
    "* Pearson Correlation effective p value (`pearson_r_eff_p_value`)\n",
    "* Spearman Correlation (`spearman_r`)\n",
    "* Spearman Correlation p value (`spearman_r_p_value`)\n",
    "* Spearman Correlation effective p value (`spearman_r_eff_p_value`)\n",
    "* Effective Sample Size (`effective_sample_size`)\n",
    "* Coefficient of Determination (`r2`)\n",
    "\n",
    "### Distance-Based\n",
    "\n",
    "* Mean Error (`me`)\n",
    "* Root Mean Squared Error (`rmse`)\n",
    "* Mean Squared Error (`mse`)\n",
    "* Mean Absolute Error (`mae`)\n",
    "* Median Absolute Error (`median_absolute_error`)\n",
    "* Symmetric Mean Absolute Percentage Error (`smape`)\n",
    "* Mean Absolute Percentage Error (`mape`)"
   ]
  },
  {
   "cell_type": "markdown",
   "metadata": {},
   "source": [
    "Calling the functions is very straight-forward. All deterministic functions take the form `func(a, b, dim=None, **kwargs)`. **Notice that the original dataset is reduced by the dimension passed.** I.e., since we passed `time` as the dimension here, we are returned an object with dimensions `(lat, lon)`. For correlation metrics `dim` cannot be `[]`."
   ]
  },
  {
   "cell_type": "code",
   "execution_count": 3,
   "metadata": {},
   "outputs": [
    {
     "name": "stdout",
     "output_type": "stream",
     "text": [
      "<xarray.DataArray 'var' (lat: 4, lon: 5)>\n",
      "array([[ 0.99509676, -0.88499394,  0.94083077,  0.96521259, -0.13696899],\n",
      "       [-0.90613709,  0.51585291,  0.72875703,  0.19331043,  0.79754067],\n",
      "       [-0.80112059, -0.95632624, -0.23640403, -0.57684283,  0.43389289],\n",
      "       [ 0.00230351, -0.58970109, -0.87332763, -0.99992557, -0.31404248]])\n",
      "Coordinates:\n",
      "  * lat      (lat) int64 0 1 2 3\n",
      "  * lon      (lon) int64 0 1 2 3 4\n"
     ]
    }
   ],
   "source": [
    "r = xs.pearson_r(obs, fct, dim='time')\n",
    "print(r)"
   ]
  },
  {
   "cell_type": "code",
   "execution_count": 4,
   "metadata": {},
   "outputs": [
    {
     "name": "stdout",
     "output_type": "stream",
     "text": [
      "<xarray.DataArray 'var' (lat: 4, lon: 5)>\n",
      "array([[0.06306879, 0.30832471, 0.22009394, 0.1684121 , 0.91252786],\n",
      "       [0.2780348 , 0.6549502 , 0.48019675, 0.87615511, 0.41226788],\n",
      "       [0.40847506, 0.1888421 , 0.84806222, 0.60856901, 0.71427925],\n",
      "       [0.99853354, 0.59849112, 0.32391484, 0.00776728, 0.79663312]])\n",
      "Coordinates:\n",
      "  * lat      (lat) int64 0 1 2 3\n",
      "  * lon      (lon) int64 0 1 2 3 4\n"
     ]
    }
   ],
   "source": [
    "p = xs.pearson_r_p_value(obs, fct, dim=\"time\")\n",
    "print(p)"
   ]
  },
  {
   "cell_type": "markdown",
   "metadata": {},
   "source": [
    "You can also specify multiple axes for deterministic metrics. Here, we apply it over the latitude and longitude dimension (a pattern correlation)."
   ]
  },
  {
   "cell_type": "code",
   "execution_count": 5,
   "metadata": {},
   "outputs": [
    {
     "name": "stdout",
     "output_type": "stream",
     "text": [
      "<xarray.DataArray 'var' (time: 3)>\n",
      "array([-0.16920304, -0.06326809,  0.18040449])\n",
      "Coordinates:\n",
      "  * time     (time) object 2000-01-01 00:00:00 ... 2000-01-03 00:00:00\n"
     ]
    }
   ],
   "source": [
    "r = xs.pearson_r(obs, fct, dim=[\"lat\", \"lon\"])\n",
    "print(r)"
   ]
  },
  {
   "cell_type": "markdown",
   "metadata": {},
   "source": [
    "All deterministic metrics except for `pearson_r_eff_p_value`, `spearman_r_eff_p_value`, and `effective_sample_size` can take the kwarg `weights=...`. `weights` should be a DataArray of the size of the reduced dimension (e.g., if time is being reduced it should be of length 3 in our example).\n",
    "\n",
    "Weighting is a common practice when working with observations and model simulations of the Earth system. When working with rectilinear grids, one can weight the data by the cosine of the latitude, which is maximum at the equator and minimum at the poles (as in the below example). More complicated model grids tend to be accompanied by a cell area varaible, which could also be passed into this function."
   ]
  },
  {
   "cell_type": "code",
   "execution_count": 6,
   "metadata": {},
   "outputs": [],
   "source": [
    "obs2 = xr.DataArray(\n",
    "       np.random.rand(3, 180, 360),\n",
    "       coords=[\n",
    "           xr.cftime_range(\"2000-01-01\", \"2000-01-03\", freq=\"D\"),\n",
    "           np.linspace(-89.5, 89.5, 180),\n",
    "           np.linspace(-179.5, 179.5, 360),\n",
    "       ],\n",
    "       dims=[\"time\", \"lat\", \"lon\"],\n",
    "    )\n",
    "fct2 = obs2.copy()\n",
    "fct2.values = np.random.rand(3, 180, 360)"
   ]
  },
  {
   "cell_type": "code",
   "execution_count": 7,
   "metadata": {},
   "outputs": [],
   "source": [
    "# make weights as cosine of the latitude and broadcast\n",
    "weights = np.cos(np.deg2rad(obs2.lat))\n",
    "_, weights = xr.broadcast(obs2, weights)\n",
    "\n",
    "# Remove the time dimension from weights\n",
    "weights = weights.isel(time=0)"
   ]
  },
  {
   "cell_type": "code",
   "execution_count": 8,
   "metadata": {},
   "outputs": [
    {
     "name": "stdout",
     "output_type": "stream",
     "text": [
      "<xarray.DataArray (time: 3)>\n",
      "array([-0.0020303 , -0.00498588, -0.00401522])\n",
      "Coordinates:\n",
      "  * time     (time) object 2000-01-01 00:00:00 ... 2000-01-03 00:00:00\n"
     ]
    }
   ],
   "source": [
    "r_weighted = xs.pearson_r(obs2, fct2, dim=[\"lat\", \"lon\"], weights=weights)\n",
    "print(r_weighted)"
   ]
  },
  {
   "cell_type": "code",
   "execution_count": 9,
   "metadata": {},
   "outputs": [
    {
     "name": "stdout",
     "output_type": "stream",
     "text": [
      "<xarray.DataArray (time: 3)>\n",
      "array([ 5.72646719e-05, -4.32380560e-03,  4.17909845e-05])\n",
      "Coordinates:\n",
      "  * time     (time) object 2000-01-01 00:00:00 ... 2000-01-03 00:00:00\n"
     ]
    }
   ],
   "source": [
    "r_unweighted = xs.pearson_r(obs2, fct2, dim=[\"lat\", \"lon\"], weights=None)\n",
    "print(r_unweighted)"
   ]
  },
  {
   "cell_type": "markdown",
   "metadata": {},
   "source": [
    "You can also pass the optional boolean kwarg `skipna=...`. If `True`, ignore any NaNs (pairwise) in `a` and `b` when computing the result. If `False`, return NaNs anywhere there are pairwise NaNs."
   ]
  },
  {
   "cell_type": "code",
   "execution_count": 10,
   "metadata": {},
   "outputs": [
    {
     "name": "stdout",
     "output_type": "stream",
     "text": [
      "<xarray.DataArray 'var' (time: 3, lat: 4, lon: 5)>\n",
      "array([[[       nan,        nan,        nan,        nan,        nan],\n",
      "        [       nan,        nan,        nan,        nan,        nan],\n",
      "        [0.02058449, 0.96990985, 0.83244264, 0.21233911, 0.18182497],\n",
      "        [0.18340451, 0.30424224, 0.52475643, 0.43194502, 0.29122914]],\n",
      "\n",
      "       [[       nan,        nan,        nan,        nan,        nan],\n",
      "        [       nan,        nan,        nan,        nan,        nan],\n",
      "        [0.60754485, 0.17052412, 0.06505159, 0.94888554, 0.96563203],\n",
      "        [0.80839735, 0.30461377, 0.09767211, 0.68423303, 0.44015249]],\n",
      "\n",
      "       [[       nan,        nan,        nan,        nan,        nan],\n",
      "        [       nan,        nan,        nan,        nan,        nan],\n",
      "        [0.96958463, 0.77513282, 0.93949894, 0.89482735, 0.59789998],\n",
      "        [0.92187424, 0.0884925 , 0.19598286, 0.04522729, 0.32533033]]])\n",
      "Coordinates:\n",
      "  * time     (time) object 2000-01-01 00:00:00 ... 2000-01-03 00:00:00\n",
      "  * lat      (lat) int64 0 1 2 3\n",
      "  * lon      (lon) int64 0 1 2 3 4\n"
     ]
    }
   ],
   "source": [
    "obs_with_nans = obs.where(obs.lat > 1)\n",
    "fct_with_nans = fct.where(fct.lat > 1)\n",
    "print(obs_with_nans)"
   ]
  },
  {
   "cell_type": "code",
   "execution_count": 11,
   "metadata": {},
   "outputs": [
    {
     "name": "stdout",
     "output_type": "stream",
     "text": [
      "<xarray.DataArray 'var' (time: 3)>\n",
      "array([0.51901116, 0.41623426, 0.32621064])\n",
      "Coordinates:\n",
      "  * time     (time) object 2000-01-01 00:00:00 ... 2000-01-03 00:00:00\n"
     ]
    }
   ],
   "source": [
    "mae_with_skipna = xs.mae(obs_with_nans, fct_with_nans, dim=['lat', 'lon'], skipna=True)\n",
    "print(mae_with_skipna)"
   ]
  },
  {
   "cell_type": "code",
   "execution_count": 12,
   "metadata": {},
   "outputs": [
    {
     "name": "stdout",
     "output_type": "stream",
     "text": [
      "<xarray.DataArray 'var' (time: 3)>\n",
      "array([nan, nan, nan])\n",
      "Coordinates:\n",
      "  * time     (time) object 2000-01-01 00:00:00 ... 2000-01-03 00:00:00\n"
     ]
    }
   ],
   "source": [
    "mae_without_skipna = xs.mae(obs_with_nans, fct_with_nans, dim=['lat', 'lon'], skipna=False)\n",
    "print(mae_without_skipna)"
   ]
  },
  {
   "cell_type": "markdown",
   "metadata": {},
   "source": [
    "## Probabilistic Metrics\n",
    "\n",
    "`xskillscore` offers a suite of probabilistic metrics, mostly ported from `properscoring`.\n",
    "\n",
    "* Continuous Ranked Probability Score with the ensemble distribution (`crps_ensemble`)\n",
    "* Continuous Ranked Probability Score with a Gaussian distribution (`crps_gaussian`)\n",
    "* Continuous Ranked Probability Score with numerical integration of the normal distribution (`crps_quadrature`)\n",
    "* Brier scores of an ensemble for exceeding given thresholds (`threshold_brier_score`)\n",
    "* Brier Score (`brier_score`)\n",
    "* Ranked Probability Score (`rps`)\n",
    "* Discrimination (`discrimination`)\n",
    "* Rank Histogram (`rank_histogram`)\n",
    "* Reliability (`reliability`)"
   ]
  },
  {
   "cell_type": "markdown",
   "metadata": {},
   "source": [
    "We now create some data with an ensemble member dimension. In this case, we envision an ensemble forecast with multiple members to validate against our theoretical observations."
   ]
  },
  {
   "cell_type": "code",
   "execution_count": 13,
   "metadata": {},
   "outputs": [],
   "source": [
    "obs3 = xr.DataArray(\n",
    "       np.random.rand(4, 5),\n",
    "       coords=[np.arange(4), np.arange(5)],\n",
    "       dims=[\"lat\", \"lon\"],\n",
    "       name='var'\n",
    "   )\n",
    "fct3 = xr.DataArray(\n",
    "       np.random.rand(3, 4, 5),\n",
    "       coords=[np.arange(3), np.arange(4), np.arange(5)],\n",
    "       dims=[\"member\", \"lat\", \"lon\"],\n",
    "       name='var'\n",
    "   )"
   ]
  },
  {
   "cell_type": "markdown",
   "metadata": {},
   "source": [
    "Continuous Ranked Probability Score with the ensemble distribution. Pass `dim=[]` to get the same behaviour as `properscoring.crps_ensemble` without any averaging over `dim`."
   ]
  },
  {
   "cell_type": "code",
   "execution_count": 14,
   "metadata": {},
   "outputs": [
    {
     "name": "stdout",
     "output_type": "stream",
     "text": [
      "<xarray.DataArray 'var' (lat: 4, lon: 5)>\n",
      "array([[0.19918258, 0.10670612, 0.11858151, 0.15974459, 0.26841063],\n",
      "       [0.08038415, 0.13237479, 0.23778382, 0.18009214, 0.08326884],\n",
      "       [0.08589149, 0.11666573, 0.21579228, 0.09646599, 0.12855359],\n",
      "       [0.19891371, 0.10470738, 0.05289158, 0.107965  , 0.11143681]])\n",
      "Coordinates:\n",
      "  * lat      (lat) int64 0 1 2 3\n",
      "  * lon      (lon) int64 0 1 2 3 4\n"
     ]
    }
   ],
   "source": [
    "crps_ensemble = xs.crps_ensemble(obs3, fct3, dim=[])\n",
    "print(crps_ensemble)"
   ]
  },
  {
   "cell_type": "markdown",
   "metadata": {},
   "source": [
    "The CRPS with a Gaussian distribution requires two parameters: $\\mu$ and $\\sigma$ from the forecast distribution. Here, we just use the ensemble mean and ensemble spread."
   ]
  },
  {
   "cell_type": "code",
   "execution_count": 15,
   "metadata": {},
   "outputs": [
    {
     "name": "stdout",
     "output_type": "stream",
     "text": [
      "<xarray.DataArray 'var' (lat: 4, lon: 5)>\n",
      "array([[0.19821619, 0.11640329, 0.14219455, 0.15912935, 0.28104703],\n",
      "       [0.08953392, 0.11758925, 0.25156378, 0.095484  , 0.10679842],\n",
      "       [0.05069082, 0.07081479, 0.24529056, 0.08700853, 0.09535839],\n",
      "       [0.1931706 , 0.11233935, 0.0783092 , 0.09593862, 0.11037143]])\n",
      "Coordinates:\n",
      "  * lat      (lat) int64 0 1 2 3\n",
      "  * lon      (lon) int64 0 1 2 3 4\n"
     ]
    }
   ],
   "source": [
    "crps_gaussian = xs.crps_gaussian(obs3, fct3.mean(\"member\"), fct3.std(\"member\"), dim=[])\n",
    "print(crps_gaussian)"
   ]
  },
  {
   "cell_type": "markdown",
   "metadata": {},
   "source": [
    "The CRPS quadrature metric requires a callable distribution function. Here we use `norm` from `scipy.stats`."
   ]
  },
  {
   "cell_type": "code",
   "execution_count": 16,
   "metadata": {},
   "outputs": [
    {
     "name": "stdout",
     "output_type": "stream",
     "text": [
      "<xarray.DataArray (lat: 4, lon: 5)>\n",
      "array([[0.52852898, 0.58042038, 0.46945497, 0.25013942, 0.23370234],\n",
      "       [0.39109762, 0.24071855, 0.25557803, 0.28994381, 0.23764056],\n",
      "       [0.40236669, 0.33477031, 0.24063375, 0.45538915, 0.48236113],\n",
      "       [0.42011508, 0.4174865 , 0.24837346, 0.43954946, 0.44689198]])\n",
      "Coordinates:\n",
      "  * lat      (lat) int64 0 1 2 3\n",
      "  * lon      (lon) int64 0 1 2 3 4\n"
     ]
    }
   ],
   "source": [
    "from scipy.stats import norm\n",
    "crps_quadrature = xs.crps_quadrature(obs3, norm, dim=[])\n",
    "print(crps_quadrature)"
   ]
  },
  {
   "cell_type": "markdown",
   "metadata": {},
   "source": [
    "We can also use a threshold Brier Score, to score hits over a certain threshold. Ranked Probability Score for two categories yields the same result."
   ]
  },
  {
   "cell_type": "code",
   "execution_count": 17,
   "metadata": {},
   "outputs": [
    {
     "name": "stdout",
     "output_type": "stream",
     "text": [
      "<xarray.DataArray 'var' ()>\n",
      "array(0.15555556)\n"
     ]
    }
   ],
   "source": [
    "threshold_brier_score = xs.threshold_brier_score(obs3, fct3, 0.5, dim=None)\n",
    "print(threshold_brier_score)"
   ]
  },
  {
   "cell_type": "code",
   "execution_count": 18,
   "metadata": {},
   "outputs": [
    {
     "name": "stdout",
     "output_type": "stream",
     "text": [
      "<xarray.DataArray 'var' ()>\n",
      "array(0.15555556)\n"
     ]
    }
   ],
   "source": [
    "brier_score = xs.brier_score(obs3>.5, (fct3>.5).mean('member'))\n",
    "print(brier_score)"
   ]
  },
  {
   "cell_type": "code",
   "execution_count": 19,
   "metadata": {},
   "outputs": [
    {
     "name": "stdout",
     "output_type": "stream",
     "text": [
      "<xarray.DataArray 'histogram_category' ()>\n",
      "array(0.15555556)\n"
     ]
    }
   ],
   "source": [
    "rps = xs.rps(obs3, fct3, category_edges=np.array([0.0, 0.5, 1.0]))\n",
    "print(rps)"
   ]
  },
  {
   "cell_type": "code",
   "execution_count": 20,
   "metadata": {},
   "outputs": [
    {
     "name": "stdout",
     "output_type": "stream",
     "text": [
      "<xarray.DataArray 'histogram_rank' (rank: 4)>\n",
      "array([3, 8, 6, 3])\n",
      "Coordinates:\n",
      "  * rank     (rank) float64 1.0 2.0 3.0 4.0\n"
     ]
    }
   ],
   "source": [
    "rank_histogram = xs.rank_histogram(obs3, fct3)\n",
    "print(rank_histogram)"
   ]
  },
  {
   "cell_type": "code",
   "execution_count": 21,
   "metadata": {},
   "outputs": [
    {
     "name": "stdout",
     "output_type": "stream",
     "text": [
      "<xarray.DataArray (event: 2, forecast_probability: 5)>\n",
      "array([[0.        , 0.08333333, 0.        , 0.66666667, 0.25      ],\n",
      "       [0.125     , 0.5       , 0.        , 0.375     , 0.        ]])\n",
      "Coordinates:\n",
      "  * forecast_probability  (forecast_probability) float64 0.1 0.3 0.5 0.7 0.9\n",
      "  * event                 (event) bool True False\n"
     ]
    }
   ],
   "source": [
    "disc = xs.discrimination(obs3 > 0.5, (fct3 > 0.5).mean(\"member\"))\n",
    "print(disc)"
   ]
  },
  {
   "cell_type": "code",
   "execution_count": 22,
   "metadata": {},
   "outputs": [
    {
     "name": "stdout",
     "output_type": "stream",
     "text": [
      "<xarray.DataArray 'var' (forecast_probability: 5)>\n",
      "array([0.        , 0.2       ,        nan, 0.72727273, 1.        ])\n",
      "Coordinates:\n",
      "  * forecast_probability  (forecast_probability) float64 0.1 0.3 0.5 0.7 0.9\n",
      "    samples               (forecast_probability) float64 1.0 5.0 0.0 11.0 3.0\n"
     ]
    },
    {
     "name": "stderr",
     "output_type": "stream",
     "text": [
      "/Users/aaron.spring/Coding/xskillscore/xskillscore/core/probabilistic.py:670: RuntimeWarning: invalid value encountered in long_scalars\n",
      "  r[..., i] = N_o_f_in_bin / N_f_in_bin\n"
     ]
    }
   ],
   "source": [
    "rel = xs.reliability(obs3 > 0.5, (fct3 > 0.5).mean(\"member\"))\n",
    "print(rel)"
   ]
  },
  {
   "cell_type": "markdown",
   "metadata": {},
   "source": [
    "## Contingency-Based\n",
    "\n",
    "To work with contingency-based scoring, first instantiate a `Contingency` object by passing in your observations, forecast, and observation/forecast bin edges. See https://www.cawcr.gov.au/projects/verification/#Contingency_table for more information."
   ]
  },
  {
   "cell_type": "code",
   "execution_count": 23,
   "metadata": {},
   "outputs": [],
   "source": [
    "dichotomous_category_edges = np.array([0, 0.5, 1]) # \"dichotomous\" mean two-category\n",
    "dichotomous_contingency = xs.Contingency(obs, fct,\n",
    "                                        dichotomous_category_edges,\n",
    "                                        dichotomous_category_edges,\n",
    "                                        dim=['lat','lon'])\n",
    "dichotomous_contingency_table = dichotomous_contingency.table"
   ]
  },
  {
   "cell_type": "code",
   "execution_count": 24,
   "metadata": {},
   "outputs": [
    {
     "data": {
      "text/html": [
       "<div><svg style=\"position: absolute; width: 0; height: 0; overflow: hidden\">\n",
       "<defs>\n",
       "<symbol id=\"icon-database\" viewBox=\"0 0 32 32\">\n",
       "<path d=\"M16 0c-8.837 0-16 2.239-16 5v4c0 2.761 7.163 5 16 5s16-2.239 16-5v-4c0-2.761-7.163-5-16-5z\"></path>\n",
       "<path d=\"M16 17c-8.837 0-16-2.239-16-5v6c0 2.761 7.163 5 16 5s16-2.239 16-5v-6c0 2.761-7.163 5-16 5z\"></path>\n",
       "<path d=\"M16 26c-8.837 0-16-2.239-16-5v6c0 2.761 7.163 5 16 5s16-2.239 16-5v-6c0 2.761-7.163 5-16 5z\"></path>\n",
       "</symbol>\n",
       "<symbol id=\"icon-file-text2\" viewBox=\"0 0 32 32\">\n",
       "<path d=\"M28.681 7.159c-0.694-0.947-1.662-2.053-2.724-3.116s-2.169-2.030-3.116-2.724c-1.612-1.182-2.393-1.319-2.841-1.319h-15.5c-1.378 0-2.5 1.121-2.5 2.5v27c0 1.378 1.122 2.5 2.5 2.5h23c1.378 0 2.5-1.122 2.5-2.5v-19.5c0-0.448-0.137-1.23-1.319-2.841zM24.543 5.457c0.959 0.959 1.712 1.825 2.268 2.543h-4.811v-4.811c0.718 0.556 1.584 1.309 2.543 2.268zM28 29.5c0 0.271-0.229 0.5-0.5 0.5h-23c-0.271 0-0.5-0.229-0.5-0.5v-27c0-0.271 0.229-0.5 0.5-0.5 0 0 15.499-0 15.5 0v7c0 0.552 0.448 1 1 1h7v19.5z\"></path>\n",
       "<path d=\"M23 26h-14c-0.552 0-1-0.448-1-1s0.448-1 1-1h14c0.552 0 1 0.448 1 1s-0.448 1-1 1z\"></path>\n",
       "<path d=\"M23 22h-14c-0.552 0-1-0.448-1-1s0.448-1 1-1h14c0.552 0 1 0.448 1 1s-0.448 1-1 1z\"></path>\n",
       "<path d=\"M23 18h-14c-0.552 0-1-0.448-1-1s0.448-1 1-1h14c0.552 0 1 0.448 1 1s-0.448 1-1 1z\"></path>\n",
       "</symbol>\n",
       "</defs>\n",
       "</svg>\n",
       "<style>/* CSS stylesheet for displaying xarray objects in jupyterlab.\n",
       " *\n",
       " */\n",
       "\n",
       ":root {\n",
       "  --xr-font-color0: var(--jp-content-font-color0, rgba(0, 0, 0, 1));\n",
       "  --xr-font-color2: var(--jp-content-font-color2, rgba(0, 0, 0, 0.54));\n",
       "  --xr-font-color3: var(--jp-content-font-color3, rgba(0, 0, 0, 0.38));\n",
       "  --xr-border-color: var(--jp-border-color2, #e0e0e0);\n",
       "  --xr-disabled-color: var(--jp-layout-color3, #bdbdbd);\n",
       "  --xr-background-color: var(--jp-layout-color0, white);\n",
       "  --xr-background-color-row-even: var(--jp-layout-color1, white);\n",
       "  --xr-background-color-row-odd: var(--jp-layout-color2, #eeeeee);\n",
       "}\n",
       "\n",
       "html[theme=dark],\n",
       "body.vscode-dark {\n",
       "  --xr-font-color0: rgba(255, 255, 255, 1);\n",
       "  --xr-font-color2: rgba(255, 255, 255, 0.54);\n",
       "  --xr-font-color3: rgba(255, 255, 255, 0.38);\n",
       "  --xr-border-color: #1F1F1F;\n",
       "  --xr-disabled-color: #515151;\n",
       "  --xr-background-color: #111111;\n",
       "  --xr-background-color-row-even: #111111;\n",
       "  --xr-background-color-row-odd: #313131;\n",
       "}\n",
       "\n",
       ".xr-wrap {\n",
       "  display: block;\n",
       "  min-width: 300px;\n",
       "  max-width: 700px;\n",
       "}\n",
       "\n",
       ".xr-text-repr-fallback {\n",
       "  /* fallback to plain text repr when CSS is not injected (untrusted notebook) */\n",
       "  display: none;\n",
       "}\n",
       "\n",
       ".xr-header {\n",
       "  padding-top: 6px;\n",
       "  padding-bottom: 6px;\n",
       "  margin-bottom: 4px;\n",
       "  border-bottom: solid 1px var(--xr-border-color);\n",
       "}\n",
       "\n",
       ".xr-header > div,\n",
       ".xr-header > ul {\n",
       "  display: inline;\n",
       "  margin-top: 0;\n",
       "  margin-bottom: 0;\n",
       "}\n",
       "\n",
       ".xr-obj-type,\n",
       ".xr-array-name {\n",
       "  margin-left: 2px;\n",
       "  margin-right: 10px;\n",
       "}\n",
       "\n",
       ".xr-obj-type {\n",
       "  color: var(--xr-font-color2);\n",
       "}\n",
       "\n",
       ".xr-sections {\n",
       "  padding-left: 0 !important;\n",
       "  display: grid;\n",
       "  grid-template-columns: 150px auto auto 1fr 20px 20px;\n",
       "}\n",
       "\n",
       ".xr-section-item {\n",
       "  display: contents;\n",
       "}\n",
       "\n",
       ".xr-section-item input {\n",
       "  display: none;\n",
       "}\n",
       "\n",
       ".xr-section-item input + label {\n",
       "  color: var(--xr-disabled-color);\n",
       "}\n",
       "\n",
       ".xr-section-item input:enabled + label {\n",
       "  cursor: pointer;\n",
       "  color: var(--xr-font-color2);\n",
       "}\n",
       "\n",
       ".xr-section-item input:enabled + label:hover {\n",
       "  color: var(--xr-font-color0);\n",
       "}\n",
       "\n",
       ".xr-section-summary {\n",
       "  grid-column: 1;\n",
       "  color: var(--xr-font-color2);\n",
       "  font-weight: 500;\n",
       "}\n",
       "\n",
       ".xr-section-summary > span {\n",
       "  display: inline-block;\n",
       "  padding-left: 0.5em;\n",
       "}\n",
       "\n",
       ".xr-section-summary-in:disabled + label {\n",
       "  color: var(--xr-font-color2);\n",
       "}\n",
       "\n",
       ".xr-section-summary-in + label:before {\n",
       "  display: inline-block;\n",
       "  content: '►';\n",
       "  font-size: 11px;\n",
       "  width: 15px;\n",
       "  text-align: center;\n",
       "}\n",
       "\n",
       ".xr-section-summary-in:disabled + label:before {\n",
       "  color: var(--xr-disabled-color);\n",
       "}\n",
       "\n",
       ".xr-section-summary-in:checked + label:before {\n",
       "  content: '▼';\n",
       "}\n",
       "\n",
       ".xr-section-summary-in:checked + label > span {\n",
       "  display: none;\n",
       "}\n",
       "\n",
       ".xr-section-summary,\n",
       ".xr-section-inline-details {\n",
       "  padding-top: 4px;\n",
       "  padding-bottom: 4px;\n",
       "}\n",
       "\n",
       ".xr-section-inline-details {\n",
       "  grid-column: 2 / -1;\n",
       "}\n",
       "\n",
       ".xr-section-details {\n",
       "  display: none;\n",
       "  grid-column: 1 / -1;\n",
       "  margin-bottom: 5px;\n",
       "}\n",
       "\n",
       ".xr-section-summary-in:checked ~ .xr-section-details {\n",
       "  display: contents;\n",
       "}\n",
       "\n",
       ".xr-array-wrap {\n",
       "  grid-column: 1 / -1;\n",
       "  display: grid;\n",
       "  grid-template-columns: 20px auto;\n",
       "}\n",
       "\n",
       ".xr-array-wrap > label {\n",
       "  grid-column: 1;\n",
       "  vertical-align: top;\n",
       "}\n",
       "\n",
       ".xr-preview {\n",
       "  color: var(--xr-font-color3);\n",
       "}\n",
       "\n",
       ".xr-array-preview,\n",
       ".xr-array-data {\n",
       "  padding: 0 5px !important;\n",
       "  grid-column: 2;\n",
       "}\n",
       "\n",
       ".xr-array-data,\n",
       ".xr-array-in:checked ~ .xr-array-preview {\n",
       "  display: none;\n",
       "}\n",
       "\n",
       ".xr-array-in:checked ~ .xr-array-data,\n",
       ".xr-array-preview {\n",
       "  display: inline-block;\n",
       "}\n",
       "\n",
       ".xr-dim-list {\n",
       "  display: inline-block !important;\n",
       "  list-style: none;\n",
       "  padding: 0 !important;\n",
       "  margin: 0;\n",
       "}\n",
       "\n",
       ".xr-dim-list li {\n",
       "  display: inline-block;\n",
       "  padding: 0;\n",
       "  margin: 0;\n",
       "}\n",
       "\n",
       ".xr-dim-list:before {\n",
       "  content: '(';\n",
       "}\n",
       "\n",
       ".xr-dim-list:after {\n",
       "  content: ')';\n",
       "}\n",
       "\n",
       ".xr-dim-list li:not(:last-child):after {\n",
       "  content: ',';\n",
       "  padding-right: 5px;\n",
       "}\n",
       "\n",
       ".xr-has-index {\n",
       "  font-weight: bold;\n",
       "}\n",
       "\n",
       ".xr-var-list,\n",
       ".xr-var-item {\n",
       "  display: contents;\n",
       "}\n",
       "\n",
       ".xr-var-item > div,\n",
       ".xr-var-item label,\n",
       ".xr-var-item > .xr-var-name span {\n",
       "  background-color: var(--xr-background-color-row-even);\n",
       "  margin-bottom: 0;\n",
       "}\n",
       "\n",
       ".xr-var-item > .xr-var-name:hover span {\n",
       "  padding-right: 5px;\n",
       "}\n",
       "\n",
       ".xr-var-list > li:nth-child(odd) > div,\n",
       ".xr-var-list > li:nth-child(odd) > label,\n",
       ".xr-var-list > li:nth-child(odd) > .xr-var-name span {\n",
       "  background-color: var(--xr-background-color-row-odd);\n",
       "}\n",
       "\n",
       ".xr-var-name {\n",
       "  grid-column: 1;\n",
       "}\n",
       "\n",
       ".xr-var-dims {\n",
       "  grid-column: 2;\n",
       "}\n",
       "\n",
       ".xr-var-dtype {\n",
       "  grid-column: 3;\n",
       "  text-align: right;\n",
       "  color: var(--xr-font-color2);\n",
       "}\n",
       "\n",
       ".xr-var-preview {\n",
       "  grid-column: 4;\n",
       "}\n",
       "\n",
       ".xr-var-name,\n",
       ".xr-var-dims,\n",
       ".xr-var-dtype,\n",
       ".xr-preview,\n",
       ".xr-attrs dt {\n",
       "  white-space: nowrap;\n",
       "  overflow: hidden;\n",
       "  text-overflow: ellipsis;\n",
       "  padding-right: 10px;\n",
       "}\n",
       "\n",
       ".xr-var-name:hover,\n",
       ".xr-var-dims:hover,\n",
       ".xr-var-dtype:hover,\n",
       ".xr-attrs dt:hover {\n",
       "  overflow: visible;\n",
       "  width: auto;\n",
       "  z-index: 1;\n",
       "}\n",
       "\n",
       ".xr-var-attrs,\n",
       ".xr-var-data {\n",
       "  display: none;\n",
       "  background-color: var(--xr-background-color) !important;\n",
       "  padding-bottom: 5px !important;\n",
       "}\n",
       "\n",
       ".xr-var-attrs-in:checked ~ .xr-var-attrs,\n",
       ".xr-var-data-in:checked ~ .xr-var-data {\n",
       "  display: block;\n",
       "}\n",
       "\n",
       ".xr-var-data > table {\n",
       "  float: right;\n",
       "}\n",
       "\n",
       ".xr-var-name span,\n",
       ".xr-var-data,\n",
       ".xr-attrs {\n",
       "  padding-left: 25px !important;\n",
       "}\n",
       "\n",
       ".xr-attrs,\n",
       ".xr-var-attrs,\n",
       ".xr-var-data {\n",
       "  grid-column: 1 / -1;\n",
       "}\n",
       "\n",
       "dl.xr-attrs {\n",
       "  padding: 0;\n",
       "  margin: 0;\n",
       "  display: grid;\n",
       "  grid-template-columns: 125px auto;\n",
       "}\n",
       "\n",
       ".xr-attrs dt, dd {\n",
       "  padding: 0;\n",
       "  margin: 0;\n",
       "  float: left;\n",
       "  padding-right: 10px;\n",
       "  width: auto;\n",
       "}\n",
       "\n",
       ".xr-attrs dt {\n",
       "  font-weight: normal;\n",
       "  grid-column: 1;\n",
       "}\n",
       "\n",
       ".xr-attrs dt:hover span {\n",
       "  display: inline-block;\n",
       "  background: var(--xr-background-color);\n",
       "  padding-right: 10px;\n",
       "}\n",
       "\n",
       ".xr-attrs dd {\n",
       "  grid-column: 2;\n",
       "  white-space: pre-wrap;\n",
       "  word-break: break-all;\n",
       "}\n",
       "\n",
       ".xr-icon-database,\n",
       ".xr-icon-file-text2 {\n",
       "  display: inline-block;\n",
       "  vertical-align: middle;\n",
       "  width: 1em;\n",
       "  height: 1.5em !important;\n",
       "  stroke-width: 0;\n",
       "  stroke: currentColor;\n",
       "  fill: currentColor;\n",
       "}\n",
       "</style><pre class='xr-text-repr-fallback'>&lt;xarray.DataArray &#x27;histogram_observations_forecasts&#x27; (time: 3, observations_category: 2, forecasts_category: 2)&gt;\n",
       "array([[[5, 6],\n",
       "        [6, 3]],\n",
       "\n",
       "       [[6, 5],\n",
       "        [4, 5]],\n",
       "\n",
       "       [[5, 5],\n",
       "        [4, 6]]])\n",
       "Coordinates:\n",
       "  * time                          (time) object 2000-01-01 00:00:00 ... 2000-...\n",
       "    observations_category_bounds  (observations_category) &lt;U10 &#x27;[0.0, 0.5)&#x27; &#x27;...\n",
       "    forecasts_category_bounds     (forecasts_category) &lt;U10 &#x27;[0.0, 0.5)&#x27; &#x27;[0....\n",
       "  * observations_category         (observations_category) int64 1 2\n",
       "  * forecasts_category            (forecasts_category) int64 1 2</pre><div class='xr-wrap' hidden><div class='xr-header'><div class='xr-obj-type'>xarray.DataArray</div><div class='xr-array-name'>'histogram_observations_forecasts'</div><ul class='xr-dim-list'><li><span class='xr-has-index'>time</span>: 3</li><li><span class='xr-has-index'>observations_category</span>: 2</li><li><span class='xr-has-index'>forecasts_category</span>: 2</li></ul></div><ul class='xr-sections'><li class='xr-section-item'><div class='xr-array-wrap'><input id='section-cfa25ae6-ad2c-484a-bcf5-1fd3d0971fd7' class='xr-array-in' type='checkbox' checked><label for='section-cfa25ae6-ad2c-484a-bcf5-1fd3d0971fd7' title='Show/hide data repr'><svg class='icon xr-icon-database'><use xlink:href='#icon-database'></use></svg></label><div class='xr-array-preview xr-preview'><span>5 6 6 3 6 5 4 5 5 5 4 6</span></div><div class='xr-array-data'><pre>array([[[5, 6],\n",
       "        [6, 3]],\n",
       "\n",
       "       [[6, 5],\n",
       "        [4, 5]],\n",
       "\n",
       "       [[5, 5],\n",
       "        [4, 6]]])</pre></div></div></li><li class='xr-section-item'><input id='section-aedd8c60-6515-4a67-9d53-08877e3fce0a' class='xr-section-summary-in' type='checkbox'  checked><label for='section-aedd8c60-6515-4a67-9d53-08877e3fce0a' class='xr-section-summary' >Coordinates: <span>(5)</span></label><div class='xr-section-inline-details'></div><div class='xr-section-details'><ul class='xr-var-list'><li class='xr-var-item'><div class='xr-var-name'><span class='xr-has-index'>time</span></div><div class='xr-var-dims'>(time)</div><div class='xr-var-dtype'>object</div><div class='xr-var-preview xr-preview'>2000-01-01 00:00:00 ... 2000-01-...</div><input id='attrs-2efeaba6-7460-481a-96e3-2f9edad4a260' class='xr-var-attrs-in' type='checkbox' disabled><label for='attrs-2efeaba6-7460-481a-96e3-2f9edad4a260' title='Show/Hide attributes'><svg class='icon xr-icon-file-text2'><use xlink:href='#icon-file-text2'></use></svg></label><input id='data-2a0f26fd-5e88-45a5-9459-62321c32b4e7' class='xr-var-data-in' type='checkbox'><label for='data-2a0f26fd-5e88-45a5-9459-62321c32b4e7' title='Show/Hide data repr'><svg class='icon xr-icon-database'><use xlink:href='#icon-database'></use></svg></label><div class='xr-var-attrs'><dl class='xr-attrs'></dl></div><div class='xr-var-data'><pre>array([cftime.DatetimeGregorian(2000, 1, 1, 0, 0, 0, 0),\n",
       "       cftime.DatetimeGregorian(2000, 1, 2, 0, 0, 0, 0),\n",
       "       cftime.DatetimeGregorian(2000, 1, 3, 0, 0, 0, 0)], dtype=object)</pre></div></li><li class='xr-var-item'><div class='xr-var-name'><span>observations_category_bounds</span></div><div class='xr-var-dims'>(observations_category)</div><div class='xr-var-dtype'>&lt;U10</div><div class='xr-var-preview xr-preview'>&#x27;[0.0, 0.5)&#x27; &#x27;[0.5, 1.0)&#x27;</div><input id='attrs-d79662a3-369b-465c-8457-d62386b03c51' class='xr-var-attrs-in' type='checkbox' disabled><label for='attrs-d79662a3-369b-465c-8457-d62386b03c51' title='Show/Hide attributes'><svg class='icon xr-icon-file-text2'><use xlink:href='#icon-file-text2'></use></svg></label><input id='data-e04af3d2-6c5c-407d-b17e-a90e607d5b9f' class='xr-var-data-in' type='checkbox'><label for='data-e04af3d2-6c5c-407d-b17e-a90e607d5b9f' title='Show/Hide data repr'><svg class='icon xr-icon-database'><use xlink:href='#icon-database'></use></svg></label><div class='xr-var-attrs'><dl class='xr-attrs'></dl></div><div class='xr-var-data'><pre>array([&#x27;[0.0, 0.5)&#x27;, &#x27;[0.5, 1.0)&#x27;], dtype=&#x27;&lt;U10&#x27;)</pre></div></li><li class='xr-var-item'><div class='xr-var-name'><span>forecasts_category_bounds</span></div><div class='xr-var-dims'>(forecasts_category)</div><div class='xr-var-dtype'>&lt;U10</div><div class='xr-var-preview xr-preview'>&#x27;[0.0, 0.5)&#x27; &#x27;[0.5, 1.0)&#x27;</div><input id='attrs-4e1d67f3-d4d5-4fad-afa1-1b8da0613c13' class='xr-var-attrs-in' type='checkbox' disabled><label for='attrs-4e1d67f3-d4d5-4fad-afa1-1b8da0613c13' title='Show/Hide attributes'><svg class='icon xr-icon-file-text2'><use xlink:href='#icon-file-text2'></use></svg></label><input id='data-1d4021fd-0096-43fc-976d-56a908a687dc' class='xr-var-data-in' type='checkbox'><label for='data-1d4021fd-0096-43fc-976d-56a908a687dc' title='Show/Hide data repr'><svg class='icon xr-icon-database'><use xlink:href='#icon-database'></use></svg></label><div class='xr-var-attrs'><dl class='xr-attrs'></dl></div><div class='xr-var-data'><pre>array([&#x27;[0.0, 0.5)&#x27;, &#x27;[0.5, 1.0)&#x27;], dtype=&#x27;&lt;U10&#x27;)</pre></div></li><li class='xr-var-item'><div class='xr-var-name'><span class='xr-has-index'>observations_category</span></div><div class='xr-var-dims'>(observations_category)</div><div class='xr-var-dtype'>int64</div><div class='xr-var-preview xr-preview'>1 2</div><input id='attrs-a7c294fb-070f-4311-bc9a-5db3df0d04c7' class='xr-var-attrs-in' type='checkbox' disabled><label for='attrs-a7c294fb-070f-4311-bc9a-5db3df0d04c7' title='Show/Hide attributes'><svg class='icon xr-icon-file-text2'><use xlink:href='#icon-file-text2'></use></svg></label><input id='data-99a3593d-79ca-4ca2-8fd1-9c8fc6e1c440' class='xr-var-data-in' type='checkbox'><label for='data-99a3593d-79ca-4ca2-8fd1-9c8fc6e1c440' title='Show/Hide data repr'><svg class='icon xr-icon-database'><use xlink:href='#icon-database'></use></svg></label><div class='xr-var-attrs'><dl class='xr-attrs'></dl></div><div class='xr-var-data'><pre>array([1, 2])</pre></div></li><li class='xr-var-item'><div class='xr-var-name'><span class='xr-has-index'>forecasts_category</span></div><div class='xr-var-dims'>(forecasts_category)</div><div class='xr-var-dtype'>int64</div><div class='xr-var-preview xr-preview'>1 2</div><input id='attrs-659aad10-b18b-4ddf-a2ab-c5ca3f064378' class='xr-var-attrs-in' type='checkbox' disabled><label for='attrs-659aad10-b18b-4ddf-a2ab-c5ca3f064378' title='Show/Hide attributes'><svg class='icon xr-icon-file-text2'><use xlink:href='#icon-file-text2'></use></svg></label><input id='data-e444ba78-60bf-4ed2-9468-08d901a30557' class='xr-var-data-in' type='checkbox'><label for='data-e444ba78-60bf-4ed2-9468-08d901a30557' title='Show/Hide data repr'><svg class='icon xr-icon-database'><use xlink:href='#icon-database'></use></svg></label><div class='xr-var-attrs'><dl class='xr-attrs'></dl></div><div class='xr-var-data'><pre>array([1, 2])</pre></div></li></ul></div></li><li class='xr-section-item'><input id='section-75f52615-df31-478a-a7a6-e6baf401db9e' class='xr-section-summary-in' type='checkbox' disabled ><label for='section-75f52615-df31-478a-a7a6-e6baf401db9e' class='xr-section-summary'  title='Expand/collapse section'>Attributes: <span>(0)</span></label><div class='xr-section-inline-details'></div><div class='xr-section-details'><dl class='xr-attrs'></dl></div></li></ul></div></div>"
      ],
      "text/plain": [
       "<xarray.DataArray 'histogram_observations_forecasts' (time: 3, observations_category: 2, forecasts_category: 2)>\n",
       "array([[[5, 6],\n",
       "        [6, 3]],\n",
       "\n",
       "       [[6, 5],\n",
       "        [4, 5]],\n",
       "\n",
       "       [[5, 5],\n",
       "        [4, 6]]])\n",
       "Coordinates:\n",
       "  * time                          (time) object 2000-01-01 00:00:00 ... 2000-...\n",
       "    observations_category_bounds  (observations_category) <U10 '[0.0, 0.5)' '...\n",
       "    forecasts_category_bounds     (forecasts_category) <U10 '[0.0, 0.5)' '[0....\n",
       "  * observations_category         (observations_category) int64 1 2\n",
       "  * forecasts_category            (forecasts_category) int64 1 2"
      ]
     },
     "execution_count": 24,
     "metadata": {},
     "output_type": "execute_result"
    }
   ],
   "source": [
    "dichotomous_contingency_table"
   ]
  },
  {
   "cell_type": "code",
   "execution_count": 25,
   "metadata": {},
   "outputs": [
    {
     "data": {
      "text/html": [
       "<div>\n",
       "<style scoped>\n",
       "    .dataframe tbody tr th:only-of-type {\n",
       "        vertical-align: middle;\n",
       "    }\n",
       "\n",
       "    .dataframe tbody tr th {\n",
       "        vertical-align: top;\n",
       "    }\n",
       "\n",
       "    .dataframe thead tr th {\n",
       "        text-align: left;\n",
       "    }\n",
       "\n",
       "    .dataframe thead tr:last-of-type th {\n",
       "        text-align: right;\n",
       "    }\n",
       "</style>\n",
       "<table border=\"1\" class=\"dataframe\">\n",
       "  <thead>\n",
       "    <tr>\n",
       "      <th></th>\n",
       "      <th></th>\n",
       "      <th colspan=\"2\" halign=\"left\">histogram_observations_forecasts</th>\n",
       "    </tr>\n",
       "    <tr>\n",
       "      <th></th>\n",
       "      <th>observations_category</th>\n",
       "      <th>1</th>\n",
       "      <th>2</th>\n",
       "    </tr>\n",
       "    <tr>\n",
       "      <th></th>\n",
       "      <th>observations_category_bounds</th>\n",
       "      <th>[0.0, 0.5)</th>\n",
       "      <th>[0.5, 1.0)</th>\n",
       "    </tr>\n",
       "    <tr>\n",
       "      <th>forecasts_category</th>\n",
       "      <th>forecasts_category_bounds</th>\n",
       "      <th></th>\n",
       "      <th></th>\n",
       "    </tr>\n",
       "  </thead>\n",
       "  <tbody>\n",
       "    <tr>\n",
       "      <th>1</th>\n",
       "      <th>[0.0, 0.5)</th>\n",
       "      <td>5.33</td>\n",
       "      <td>4.67</td>\n",
       "    </tr>\n",
       "    <tr>\n",
       "      <th>2</th>\n",
       "      <th>[0.5, 1.0)</th>\n",
       "      <td>5.33</td>\n",
       "      <td>4.67</td>\n",
       "    </tr>\n",
       "  </tbody>\n",
       "</table>\n",
       "</div>"
      ],
      "text/plain": [
       "                                             histogram_observations_forecasts  \\\n",
       "observations_category                                                       1   \n",
       "observations_category_bounds                                       [0.0, 0.5)   \n",
       "forecasts_category forecasts_category_bounds                                    \n",
       "1                  [0.0, 0.5)                                            5.33   \n",
       "2                  [0.5, 1.0)                                            5.33   \n",
       "\n",
       "                                                         \n",
       "observations_category                                 2  \n",
       "observations_category_bounds                 [0.5, 1.0)  \n",
       "forecasts_category forecasts_category_bounds             \n",
       "1                  [0.0, 0.5)                      4.67  \n",
       "2                  [0.5, 1.0)                      4.67  "
      ]
     },
     "execution_count": 25,
     "metadata": {},
     "output_type": "execute_result"
    }
   ],
   "source": [
    "dichotomous_contingency_table.to_dataframe().pivot_table(index=['forecasts_category','forecasts_category_bounds'],\n",
    "                                                         columns=['observations_category','observations_category_bounds']).round(2)"
   ]
  },
  {
   "cell_type": "markdown",
   "metadata": {},
   "source": [
    "Scores based on the constructed contingency table can be called via class methods. The available methods are:\n",
    "\n",
    "* `bias_score`\n",
    "* `hit_rate`\n",
    "* `false_alarm_ratio`\n",
    "* `false_alarm_rate`\n",
    "* `success_ratio`\n",
    "* `threat_score`\n",
    "* `equit_threat_score`\n",
    "* `odds_ratio`\n",
    "* `odds_ratio_skill_score`\n",
    "* `accuracy`\n",
    "* `heidke_score`\n",
    "* `peirce_score`\n",
    "* `gerrity_score`\n",
    "\n",
    "Below, we share a few examples of these in action."
   ]
  },
  {
   "cell_type": "code",
   "execution_count": 26,
   "metadata": {},
   "outputs": [
    {
     "name": "stdout",
     "output_type": "stream",
     "text": [
      "<xarray.DataArray 'histogram_observations_forecasts' (time: 3)>\n",
      "array([1.        , 1.11111111, 1.1       ])\n",
      "Coordinates:\n",
      "  * time     (time) object 2000-01-01 00:00:00 ... 2000-01-03 00:00:00\n"
     ]
    }
   ],
   "source": [
    "print(dichotomous_contingency.bias_score())"
   ]
  },
  {
   "cell_type": "code",
   "execution_count": 27,
   "metadata": {},
   "outputs": [
    {
     "name": "stdout",
     "output_type": "stream",
     "text": [
      "<xarray.DataArray 'histogram_observations_forecasts' (time: 3)>\n",
      "array([0.33333333, 0.55555556, 0.6       ])\n",
      "Coordinates:\n",
      "  * time     (time) object 2000-01-01 00:00:00 ... 2000-01-03 00:00:00\n"
     ]
    }
   ],
   "source": [
    "print(dichotomous_contingency.hit_rate())"
   ]
  },
  {
   "cell_type": "code",
   "execution_count": 28,
   "metadata": {},
   "outputs": [
    {
     "name": "stdout",
     "output_type": "stream",
     "text": [
      "<xarray.DataArray 'histogram_observations_forecasts' (time: 3)>\n",
      "array([0.54545455, 0.45454545, 0.5       ])\n",
      "Coordinates:\n",
      "  * time     (time) object 2000-01-01 00:00:00 ... 2000-01-03 00:00:00\n"
     ]
    }
   ],
   "source": [
    "print(dichotomous_contingency.false_alarm_rate())"
   ]
  },
  {
   "cell_type": "code",
   "execution_count": 29,
   "metadata": {},
   "outputs": [
    {
     "name": "stdout",
     "output_type": "stream",
     "text": [
      "<xarray.DataArray 'histogram_observations_forecasts' (time: 3)>\n",
      "array([-0.41176471,  0.2       ,  0.2       ])\n",
      "Coordinates:\n",
      "  * time     (time) object 2000-01-01 00:00:00 ... 2000-01-03 00:00:00\n"
     ]
    }
   ],
   "source": [
    "print(dichotomous_contingency.odds_ratio_skill_score())"
   ]
  },
  {
   "cell_type": "markdown",
   "metadata": {},
   "source": [
    "Now we can leverage multi-category edges to make use of some scores."
   ]
  },
  {
   "cell_type": "code",
   "execution_count": 30,
   "metadata": {},
   "outputs": [],
   "source": [
    "multi_category_edges = np.array([0, 0.25, 0.75, 1])\n",
    "multicategory_contingency = xs.Contingency(obs, fct,\n",
    "                                              multi_category_edges,\n",
    "                                              multi_category_edges,\n",
    "                                              dim=['lat','lon'])"
   ]
  },
  {
   "cell_type": "code",
   "execution_count": 31,
   "metadata": {},
   "outputs": [
    {
     "name": "stdout",
     "output_type": "stream",
     "text": [
      "<xarray.DataArray 'histogram_observations_forecasts' (time: 3)>\n",
      "array([0.25, 0.25, 0.5 ])\n",
      "Coordinates:\n",
      "  * time     (time) object 2000-01-01 00:00:00 ... 2000-01-03 00:00:00\n"
     ]
    }
   ],
   "source": [
    "print(multicategory_contingency.accuracy())"
   ]
  },
  {
   "cell_type": "code",
   "execution_count": 32,
   "metadata": {},
   "outputs": [
    {
     "name": "stdout",
     "output_type": "stream",
     "text": [
      "<xarray.DataArray 'histogram_observations_forecasts' (time: 3)>\n",
      "array([-0.14503817, -0.25      ,  0.2481203 ])\n",
      "Coordinates:\n",
      "  * time     (time) object 2000-01-01 00:00:00 ... 2000-01-03 00:00:00\n"
     ]
    }
   ],
   "source": [
    "print(multicategory_contingency.heidke_score())"
   ]
  },
  {
   "cell_type": "code",
   "execution_count": 33,
   "metadata": {},
   "outputs": [
    {
     "name": "stdout",
     "output_type": "stream",
     "text": [
      "<xarray.DataArray 'histogram_observations_forecasts' (time: 3)>\n",
      "array([-0.1496063 , -0.24193548,  0.25      ])\n",
      "Coordinates:\n",
      "  * time     (time) object 2000-01-01 00:00:00 ... 2000-01-03 00:00:00\n"
     ]
    }
   ],
   "source": [
    "print(multicategory_contingency.peirce_score())"
   ]
  },
  {
   "cell_type": "code",
   "execution_count": 34,
   "metadata": {},
   "outputs": [
    {
     "name": "stdout",
     "output_type": "stream",
     "text": [
      "<xarray.DataArray 'histogram_observations_forecasts' (time: 3)>\n",
      "array([-0.15212912, -0.11160714,  0.25      ])\n",
      "Coordinates:\n",
      "  * time     (time) object 2000-01-01 00:00:00 ... 2000-01-03 00:00:00\n"
     ]
    }
   ],
   "source": [
    "print(multicategory_contingency.gerrity_score())"
   ]
  },
  {
   "cell_type": "markdown",
   "metadata": {},
   "source": [
    "## Comparative\n",
    "\n",
    "Tests to compare whether one forecast is significantly better than another one."
   ]
  },
  {
   "cell_type": "markdown",
   "metadata": {},
   "source": [
    "### Sign test"
   ]
  },
  {
   "cell_type": "code",
   "execution_count": 35,
   "metadata": {},
   "outputs": [],
   "source": [
    "length=100\n",
    "obs_1d = xr.DataArray(\n",
    "       np.random.rand(length),\n",
    "       coords=[\n",
    "           np.arange(length),\n",
    "       ],\n",
    "       dims=[\"time\"],\n",
    "       name='var'\n",
    "   )\n",
    "fct_1d = obs_1d.copy()\n",
    "fct_1d.values = np.random.rand(length)"
   ]
  },
  {
   "cell_type": "code",
   "execution_count": 36,
   "metadata": {},
   "outputs": [
    {
     "name": "stdout",
     "output_type": "stream",
     "text": [
      "Coordinates:\n",
      "  * time        (time) int64 0 1 2 3 4 5 6 7 8 9 ... 91 92 93 94 95 96 97 98 99\n",
      "    alpha       float64 0.05\n",
      "    confidence  (time) float64 1.96 2.772 3.395 3.92 ... 19.3 19.4 19.5 19.6\n"
     ]
    }
   ],
   "source": [
    "# given you want to test whether one forecast is better than another forecast\n",
    "sign_test = xs.sign_test(fct_1d, fct_1d+.2, obs_1d, time_dim='time', metric='mae', orientation='negative')\n",
    "print(sign_test.coords)"
   ]
  },
  {
   "cell_type": "code",
   "execution_count": 37,
   "metadata": {},
   "outputs": [
    {
     "data": {
      "text/plain": [
       "[<matplotlib.lines.Line2D at 0x7fd3dcb276a0>]"
      ]
     },
     "execution_count": 37,
     "metadata": {},
     "output_type": "execute_result"
    },
    {
     "data": {
      "image/png": "[encoded data removed]",
      "text/plain": [
       "<Figure size 432x288 with 1 Axes>"
      ]
     },
     "metadata": {
      "needs_background": "light"
     },
     "output_type": "display_data"
    }
   ],
   "source": [
    "sign_test.plot()\n",
    "sign_test.confidence.plot(c='gray')\n",
    "(-1*sign_test.confidence).plot(c='gray')"
   ]
  },
  {
   "cell_type": "markdown",
   "metadata": {},
   "source": [
    "### MAE test"
   ]
  },
  {
   "cell_type": "code",
   "execution_count": 67,
   "metadata": {},
   "outputs": [],
   "source": [
    "# create a worse forecast with high but different to perfect correlation\n",
    "fct_1d_worse=fct_1d.copy()\n",
    "step=3\n",
    "fct_1d_worse[::step]=fct_1d[::step].values+.1"
   ]
  },
  {
   "cell_type": "code",
   "execution_count": 76,
   "metadata": {},
   "outputs": [
    {
     "name": "stdout",
     "output_type": "stream",
     "text": [
      "<xarray.DataArray 'var' (results: 3)>\n",
      "array([0.00966918, 0.01083478, 0.        ])\n",
      "Coordinates:\n",
      "    alpha    float64 0.05\n",
      "  * results  (results) <U11 'diff' 'hwci' 'significant'\n",
      "MAEs significantly different at level 0.05 : False\n"
     ]
    }
   ],
   "source": [
    "# half-with of the confidence interval at level alpha is larger than the MAE differences,\n",
    "# therefore not significant\n",
    "alpha = 0.05\n",
    "mae_test = xs.mae_test(fct_1d, fct_1d_worse, obs_1d, time_dim='time', dim=[], alpha=alpha)\n",
    "print(mae_test)\n",
    "\n",
    "print(f\"MAEs significantly different at level {alpha} : {bool(mae_test.sel(results='significant'))}\")"
   ]
  },
  {
   "cell_type": "code",
   "execution_count": 77,
   "metadata": {},
   "outputs": [
    {
     "name": "stdout",
     "output_type": "stream",
     "text": [
      "<xarray.DataArray 'var' (results: 2)>\n",
      "array([0.00966918, 0.08027153])\n",
      "Coordinates:\n",
      "  * results  (results) <U5 'diff' 'alpha'\n"
     ]
    }
   ],
   "source": [
    "# the significance level of 0.08 is above commonly accepted level of 0.05\n",
    "mae_test = xs.mae_test(fct_1d, fct_1d_worse, obs_1d, time_dim='time', dim=[], alpha='return_p')\n",
    "print(mae_test)"
   ]
  },
  {
   "cell_type": "markdown",
   "metadata": {},
   "source": [
    "## Accessors\n",
    "\n",
    "You can also use `xskillscore` as a method of your `xarray` Dataset."
   ]
  },
  {
   "cell_type": "code",
   "execution_count": 43,
   "metadata": {},
   "outputs": [],
   "source": [
    "ds = xr.Dataset()\n",
    "ds[\"obs_var\"] = obs\n",
    "ds[\"fct_var\"] = fct"
   ]
  },
  {
   "cell_type": "markdown",
   "metadata": {},
   "source": [
    "In the case that your Dataset contains both your observation and forecast variable, just pass them as strings into the function."
   ]
  },
  {
   "cell_type": "code",
   "execution_count": 44,
   "metadata": {},
   "outputs": [
    {
     "name": "stdout",
     "output_type": "stream",
     "text": [
      "<xarray.DataArray (lat: 4, lon: 5)>\n",
      "array([[ 0.99509676, -0.88499394,  0.94083077,  0.96521259, -0.13696899],\n",
      "       [-0.90613709,  0.51585291,  0.72875703,  0.19331043,  0.79754067],\n",
      "       [-0.80112059, -0.95632624, -0.23640403, -0.57684283,  0.43389289],\n",
      "       [ 0.00230351, -0.58970109, -0.87332763, -0.99992557, -0.31404248]])\n",
      "Coordinates:\n",
      "  * lat      (lat) int64 0 1 2 3\n",
      "  * lon      (lon) int64 0 1 2 3 4\n"
     ]
    }
   ],
   "source": [
    "print(ds.xs.pearson_r(\"obs_var\", \"fct_var\", dim=\"time\"))"
   ]
  },
  {
   "cell_type": "markdown",
   "metadata": {},
   "source": [
    "You can also pass in a separate Dataset that contains your observations or forecast variable."
   ]
  },
  {
   "cell_type": "code",
   "execution_count": 45,
   "metadata": {},
   "outputs": [
    {
     "name": "stdout",
     "output_type": "stream",
     "text": [
      "<xarray.DataArray (lat: 4, lon: 5)>\n",
      "array([[ 0.99509676, -0.88499394,  0.94083077,  0.96521259, -0.13696899],\n",
      "       [-0.90613709,  0.51585291,  0.72875703,  0.19331043,  0.79754067],\n",
      "       [-0.80112059, -0.95632624, -0.23640403, -0.57684283,  0.43389289],\n",
      "       [ 0.00230351, -0.58970109, -0.87332763, -0.99992557, -0.31404248]])\n",
      "Coordinates:\n",
      "  * lat      (lat) int64 0 1 2 3\n",
      "  * lon      (lon) int64 0 1 2 3 4\n"
     ]
    }
   ],
   "source": [
    "ds = ds.drop_vars(\"fct_var\")\n",
    "print(ds.xs.pearson_r(\"obs_var\", fct, dim=\"time\"))"
   ]
  }
 ],
 "metadata": {
  "kernelspec": {
   "display_name": "Python 3",
   "language": "python",
   "name": "python3"
  },
  "language_info": {
   "codemirror_mode": {
    "name": "ipython",
    "version": 3
   },
   "file_extension": ".py",
   "mimetype": "text/x-python",
   "name": "python",
   "nbconvert_exporter": "python",
   "pygments_lexer": "ipython3",
   "version": "3.8.6"
  }
 },
 "nbformat": 4,
 "nbformat_minor": 4
}
